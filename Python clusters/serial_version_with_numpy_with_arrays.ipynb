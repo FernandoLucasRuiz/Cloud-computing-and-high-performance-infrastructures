{
 "cells": [
  {
   "cell_type": "markdown",
   "metadata": {},
   "source": [
    "### Serial version with numpy w/ arrays"
   ]
  },
  {
   "cell_type": "code",
   "execution_count": 5,
   "metadata": {},
   "outputs": [
    {
     "name": "stdout",
     "output_type": "stream",
     "text": [
      "\n",
      " \t Computing pi in serial with numpy w/ arrays: \n",
      "\n",
      "\t For 1000000 trials, pi = 3.141092\n",
      "\n",
      "99.2 ms ± 303 µs per loop (mean ± std. dev. of 3 runs, 10 loops each)\n"
     ]
    }
   ],
   "source": [
    "import numpy as np\n",
    "import sys\n",
    "\n",
    "def calc_pi_numpy2(N):\n",
    "# Simulate impact coordinates\n",
    "    pts = np.random.uniform(-1, 1, (2, N))\n",
    "# Count number of impacts inside the circle\n",
    "    M = np.count_nonzero((pts**2).sum(axis=0) < 1)\n",
    "    return 4 * M / N\n",
    "\n",
    "num_trials = int(sys.argv[1])\n",
    "\n",
    "pi = calc_pi_numpy2(num_trials)\n",
    "\n",
    "print(\"\\n \\t Computing pi in serial with numpy w/ arrays: \\n\")\n",
    "print(\"\\t For %d trials, pi = %f\\n\" % (num_trials,pi))\n",
    "\n",
    "%timeit -r3 calc_pi_numpy2(num_trials)"
   ]
  }
 ],
 "metadata": {
  "kernelspec": {
   "display_name": "Python3.6",
   "language": "python",
   "name": "python3.6"
  },
  "language_info": {
   "codemirror_mode": {
    "name": "ipython",
    "version": 3
   },
   "file_extension": ".py",
   "mimetype": "text/x-python",
   "name": "python",
   "nbconvert_exporter": "python",
   "pygments_lexer": "ipython3",
   "version": "3.6.8"
  }
 },
 "nbformat": 4,
 "nbformat_minor": 5
}
