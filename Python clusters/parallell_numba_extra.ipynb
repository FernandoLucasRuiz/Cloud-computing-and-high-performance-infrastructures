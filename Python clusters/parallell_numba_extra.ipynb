{
 "cells": [
  {
   "cell_type": "markdown",
   "metadata": {},
   "source": [
    "### ACTIVIDADES EXTRA"
   ]
  },
  {
   "cell_type": "markdown",
   "metadata": {},
   "source": [
    "#### Con el paquete numba, para que te permita usar varios núcleos de la CPU."
   ]
  },
  {
   "cell_type": "code",
   "execution_count": 7,
   "metadata": {},
   "outputs": [
    {
     "name": "stdout",
     "output_type": "stream",
     "text": [
      "Pi calculation using Numba with parallelization: 3.140308\n",
      "Execution time: 16.391340 seconds\n"
     ]
    }
   ],
   "source": [
    "from numba import njit, prange  # Importamos las funciones para la compilación en paralelo\n",
    "import numpy as np  # Importamos NumPy para realizar operaciones\n",
    "import time  # Para medir el tiempo de ejecución\n",
    "import sys\n",
    "\n",
    "\n",
    "@njit(parallel=True)\n",
    "def calc_pi_numba_parallel(N):\n",
    "    M = 0  # Inicializamos el contador de puntos dentro del círculo\n",
    "    for i in prange(N):  # Iteramos en paralelo utilizando 'prange'\n",
    "        x = np.random.uniform(-1, 1)  # Generamos números aleatorios para 'x' e 'y'\n",
    "        y = np.random.uniform(-1, 1)\n",
    "        if x**2 + y**2 < 1.0:  # Verificamos si el punto está dentro del círculo\n",
    "            M += 1  # Si está dentro, aumentamos el contador\n",
    "    return 4 * M / N  # Retornamos la estimación de Pi basada en la cantidad de puntos dentro del círculo\n",
    "\n",
    "\n",
    "num_trials = int(sys.argv[1])\n",
    "\n",
    "start_time = time.time()  # Capturamos el tiempo de inicio\n",
    "pi = calc_pi_numba_parallel(num_trials)  # Llamamos a la función de cálculo de Pi\n",
    "end_time = time.time()  # Capturamos el tiempo de finalización\n",
    "execution_time = end_time - start_time  # Calculamos el tiempo de ejecución\n",
    "\n",
    "# Mostramos los resultados por consola\n",
    "print(f\"Pi calculation using Numba with parallelization: {pi}\")\n",
    "print(f\"Execution time: {execution_time:.6f} seconds\")\n"
   ]
  }
 ],
 "metadata": {
  "kernelspec": {
   "display_name": "Python3.6",
   "language": "python",
   "name": "python3.6"
  },
  "language_info": {
   "codemirror_mode": {
    "name": "ipython",
    "version": 3
   },
   "file_extension": ".py",
   "mimetype": "text/x-python",
   "name": "python",
   "nbconvert_exporter": "python",
   "pygments_lexer": "ipython3",
   "version": "3.6.8"
  }
 },
 "nbformat": 4,
 "nbformat_minor": 5
}
