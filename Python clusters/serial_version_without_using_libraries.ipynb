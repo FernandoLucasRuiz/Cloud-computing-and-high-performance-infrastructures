{
 "cells": [
  {
   "cell_type": "markdown",
   "metadata": {},
   "source": [
    "### Serial version without using libraries"
   ]
  },
  {
   "cell_type": "code",
   "execution_count": 2,
   "metadata": {},
   "outputs": [
    {
     "name": "stdout",
     "output_type": "stream",
     "text": [
      "\n",
      " \t Computing pi in serial: \n",
      "\n",
      "\t For 100 trials, pi = 3.240000\n",
      "\n",
      "335 µs ± 788 ns per loop (mean ± std. dev. of 3 runs, 1000 loops each)\n"
     ]
    }
   ],
   "source": [
    "import random\n",
    "import sys\n",
    "\n",
    "def calc_pi(N):\n",
    "    M = 0\n",
    "    for i in range(N):\n",
    "    # Simulate impact coordinates\n",
    "        x = random.uniform(-1, 1)\n",
    "        y = random.uniform(-1, 1)\n",
    "    # True if impact happens inside the circle\n",
    "        if x**2 + y**2 < 1.0:\n",
    "            M += 1\n",
    "    return 4 * M / N\n",
    "\n",
    "\n",
    "num_trials = int(sys.argv[1])\n",
    "\n",
    "pi = calc_pi(num_trials)\n",
    "\n",
    "print(\"\\n \\t Computing pi in serial: \\n\")\n",
    "print(\"\\t For %d trials, pi = %f\\n\" % (num_trials,pi))\n",
    "\n",
    "%timeit -r3 calc_pi(num_trials)"
   ]
  },
  {
   "cell_type": "code",
   "execution_count": null,
   "metadata": {},
   "outputs": [],
   "source": []
  }
 ],
 "metadata": {
  "kernelspec": {
   "display_name": "Python3.6",
   "language": "python",
   "name": "python3.6"
  },
  "language_info": {
   "codemirror_mode": {
    "name": "ipython",
    "version": 3
   },
   "file_extension": ".py",
   "mimetype": "text/x-python",
   "name": "python",
   "nbconvert_exporter": "python",
   "pygments_lexer": "ipython3",
   "version": "3.6.8"
  }
 },
 "nbformat": 4,
 "nbformat_minor": 5
}
