{
 "cells": [
  {
   "cell_type": "markdown",
   "metadata": {},
   "source": [
    "### ACTIVIDADES EXTRA"
   ]
  },
  {
   "cell_type": "markdown",
   "metadata": {},
   "source": [
    "#### Con el paquete multiprocessing, para que te permita usar varios núcleos de la CPU."
   ]
  },
  {
   "cell_type": "code",
   "execution_count": 8,
   "metadata": {},
   "outputs": [
    {
     "name": "stdout",
     "output_type": "stream",
     "text": [
      "Pi calculation using Multiprocessing: 3.1664853101196964\n",
      "Execution time: 7.324849 seconds\n"
     ]
    }
   ],
   "source": [
    "import multiprocessing as mp\n",
    "import numpy as np\n",
    "import time\n",
    "import sys\n",
    "\n",
    "# Función que realiza el cálculo de Pi en cada proceso\n",
    "def worker(N, results):\n",
    "    M = 0\n",
    "    for i in range(N):\n",
    "        x = np.random.uniform(-1, 1)\n",
    "        y = np.random.uniform(-1, 1)\n",
    "        if x**2 + y**2 < 1.0:\n",
    "            M += 1\n",
    "    results.put(4 * M / N)\n",
    "\n",
    "# Función principal para ejecutar el cálculo de Pi con multiprocessing\n",
    "def run_multiprocessing(num_trials):\n",
    "    start_time = time.time()\n",
    "    processes = []  # Lista para almacenar los procesos\n",
    "    results = mp.Queue()  # Cola para guardar los resultados\n",
    "\n",
    "    num_processes = mp.cpu_count()  # Número de núcleos de la CPU\n",
    "    trials_per_process = num_trials // num_processes  # Número de pruebas por proceso\n",
    "\n",
    "    # Inicia varios procesos para el cálculo de Pi\n",
    "    for _ in range(num_processes):\n",
    "        process = mp.Process(target=worker, args=(trials_per_process, results))\n",
    "        processes.append(process)\n",
    "        process.start()\n",
    "\n",
    "    # Espera a que todos los procesos terminen su trabajo\n",
    "    for process in processes:\n",
    "        process.join()\n",
    "\n",
    "    # Valor final de Pi utilizando los resultados de cada proceso\n",
    "    pi = sum(results.get() for _ in range(num_processes)) / num_processes\n",
    "    end_time = time.time()\n",
    "    execution_time = end_time - start_time  # Calcula el tiempo de ejecución\n",
    "\n",
    "    # Imprime el resultado y el tiempo de ejecución\n",
    "    print(f\"Pi calculation using Multiprocessing: {pi}\")\n",
    "    print(f\"Execution time: {execution_time:.6f} seconds\")\n",
    "\n",
    "    \n",
    "num_trials = int(sys.argv[1])\n",
    "run_multiprocessing(num_trials)  # Ejecuta la función principal con el número de pruebas\n"
   ]
  }
 ],
 "metadata": {
  "kernelspec": {
   "display_name": "Python3.6",
   "language": "python",
   "name": "python3.6"
  },
  "language_info": {
   "codemirror_mode": {
    "name": "ipython",
    "version": 3
   },
   "file_extension": ".py",
   "mimetype": "text/x-python",
   "name": "python",
   "nbconvert_exporter": "python",
   "pygments_lexer": "ipython3",
   "version": "3.6.8"
  }
 },
 "nbformat": 4,
 "nbformat_minor": 5
}
