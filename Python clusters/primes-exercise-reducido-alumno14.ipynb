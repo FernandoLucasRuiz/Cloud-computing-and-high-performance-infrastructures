{
 "cells": [
  {
   "cell_type": "markdown",
   "metadata": {},
   "source": [
    "## Cálculo de cuántos números primos hay en un intervalo"
   ]
  },
  {
   "cell_type": "code",
   "execution_count": 14,
   "metadata": {},
   "outputs": [],
   "source": [
    "def prime_count_vanilla_range(range_from: int, range_til: int):\n",
    "    \"\"\" Returns the number of found prime numbers using range\"\"\"\n",
    "    prime_count = 0\n",
    "    range_from = range_from if range_from >= 2 else 2\n",
    "    for num in range(range_from, range_til + 1):\n",
    "        for divnum in range(2, num):\n",
    "            if ((num % divnum) == 0):\n",
    "                break\n",
    "            else:\n",
    "                prime_count += 1\n",
    "    return prime_count"
   ]
  },
  {
   "cell_type": "code",
   "execution_count": null,
   "metadata": {},
   "outputs": [],
   "source": [
    "import time\n",
    "import sys\n",
    "interval_1 = int(sys.argv[1])\n",
    "interval_2 = int(sys.argv[2])\n",
    "\n",
    "numbers = [(interval_1, interval_2)]\n",
    "\n",
    "start_time = time.time()\n",
    "\n",
    "#  Truqillo para pasarle varios parámetros a una función\n",
    "\n",
    "for pair in numbers:\n",
    "    prime_sum = prime_count_vanilla_range(*pair)\n",
    "\n",
    "end_time = time.time()\n",
    "\n",
    "print(f'Números primos encontrados en el intervalo {numbers}: {prime_sum}')\n",
    "print(f'Tiempo total para encontrarlos: {end_time - start_time:2f}s')"
   ]
  },
  {
   "cell_type": "code",
   "execution_count": null,
   "metadata": {},
   "outputs": [],
   "source": [
    "import time\n",
    "from numba import njit\n",
    "import sys\n",
    "interval_1 = int(sys.argv[1])\n",
    "interval_2 = int(sys.argv[2])\n",
    "\n",
    "numbers = [(interval_1, interval_2)]\n",
    "\n",
    "# The same implementation as prime_count_vanilla_range w/ @njit before\n",
    "@njit\n",
    "def prime_count_numba(range_from: int, range_til: int):\n",
    "    \"\"\" Returns the number of found prime numbers using range\"\"\"\n",
    "    prime_count = 0\n",
    "    range_from = range_from if range_from >= 2 else 2\n",
    "    for num in range(range_from, range_til + 1):\n",
    "        for divnum in range(2, num):\n",
    "            if ((num % divnum) == 0):\n",
    "                break\n",
    "            else:\n",
    "                prime_count += 1\n",
    "    return prime_count\n",
    "\n",
    "start_time = time.time()\n",
    "\n",
    "#  Truquillo para pasarle varios parámetros a una función\n",
    "for pair in numbers:\n",
    "    prime_sum = prime_count_numba(*pair)\n",
    "\n",
    "end_time = time.time()\n",
    "\n",
    "start_time = time.time()\n",
    "\n",
    "#  Truquillo para pasarle varios parámetros a una función\n",
    "for pair in numbers:\n",
    "    prime_sum = prime_count_numba(*pair)\n",
    "\n",
    "end_time = time.time()\n",
    "\n",
    "print(f'Números primos encontrados en el intervalo {numbers}: {prime_sum}')\n",
    "print(f'Tiempo total para encontrarlos: {end_time - start_time:2f}s')"
   ]
  }
 ],
 "metadata": {
  "kernelspec": {
   "display_name": "Python 3",
   "language": "python",
   "name": "python3"
  },
  "language_info": {
   "codemirror_mode": {
    "name": "ipython",
    "version": 3
   },
   "file_extension": ".py",
   "mimetype": "text/x-python",
   "name": "python",
   "nbconvert_exporter": "python",
   "pygments_lexer": "ipython3",
   "version": "3.8.5"
  }
 },
 "nbformat": 4,
 "nbformat_minor": 4
}
