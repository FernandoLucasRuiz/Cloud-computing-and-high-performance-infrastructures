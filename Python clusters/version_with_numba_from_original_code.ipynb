{
 "cells": [
  {
   "cell_type": "markdown",
   "metadata": {},
   "source": [
    "### A version with numba from original code"
   ]
  },
  {
   "cell_type": "code",
   "execution_count": 6,
   "metadata": {},
   "outputs": [
    {
     "name": "stdout",
     "output_type": "stream",
     "text": [
      "\n",
      " \t Computing pi with numba: \n",
      "\n",
      "\t For 1000000 trials, pi = 3.139628\n",
      "\n",
      "46 ms ± 683 µs per loop (mean ± std. dev. of 3 runs, 10 loops each)\n"
     ]
    }
   ],
   "source": [
    "from numba import njit\n",
    "import sys\n",
    "import random\n",
    "\n",
    "@njit(fastmath=True, cache=True, nogil=True)\n",
    "def calc_pi_numba(N):\n",
    "    M = 0\n",
    "    for i in range(N):\n",
    "# Simulate impact coordinates\n",
    "        x = random.uniform(-1, 1)\n",
    "        y = random.uniform(-1, 1)\n",
    "# True if impact happens inside the circle\n",
    "        if x**2 + y**2 < 1.0:\n",
    "            M += 1\n",
    "    return 4 * M / N\n",
    "\n",
    "num_trials = int(sys.argv[1])\n",
    "\n",
    "pi = calc_pi_numba(num_trials)\n",
    "\n",
    "print(\"\\n \\t Computing pi with numba: \\n\")\n",
    "print(\"\\t For %d trials, pi = %f\\n\" % (num_trials,pi))\n",
    "\n",
    "%timeit -r3 calc_pi_numba(num_trials)"
   ]
  }
 ],
 "metadata": {
  "kernelspec": {
   "display_name": "Python3.6",
   "language": "python",
   "name": "python3.6"
  },
  "language_info": {
   "codemirror_mode": {
    "name": "ipython",
    "version": 3
   },
   "file_extension": ".py",
   "mimetype": "text/x-python",
   "name": "python",
   "nbconvert_exporter": "python",
   "pygments_lexer": "ipython3",
   "version": "3.6.8"
  }
 },
 "nbformat": 4,
 "nbformat_minor": 5
}
