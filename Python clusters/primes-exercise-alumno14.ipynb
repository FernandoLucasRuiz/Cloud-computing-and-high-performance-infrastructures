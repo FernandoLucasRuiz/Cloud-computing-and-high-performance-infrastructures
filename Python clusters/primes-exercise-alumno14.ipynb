{
 "cells": [
  {
   "cell_type": "markdown",
   "metadata": {},
   "source": [
    "## Cálculo de cuántos números primos hay en un intervalo"
   ]
  },
  {
   "cell_type": "code",
   "execution_count": 4,
   "metadata": {},
   "outputs": [],
   "source": [
    "def prime_count_vanilla_range(range_from: int, range_til: int):\n",
    "    \"\"\" Returns the number of found prime numbers using range\"\"\"\n",
    "    prime_count = 0\n",
    "    range_from = range_from if range_from >= 2 else 2\n",
    "    for num in range(range_from, range_til + 1):\n",
    "        for divnum in range(2, num):\n",
    "            if ((num % divnum) == 0):\n",
    "                break\n",
    "            else:\n",
    "                prime_count += 1\n",
    "    return prime_count"
   ]
  },
  {
   "cell_type": "markdown",
   "metadata": {},
   "source": [
    "### Option 1: Calculate each number sequentially (spoiler: this is really inefficient)"
   ]
  },
  {
   "cell_type": "code",
   "execution_count": 5,
   "metadata": {},
   "outputs": [
    {
     "name": "stdout",
     "output_type": "stream",
     "text": [
      "Números primos encontrados en el intervalo [(1, 60000)]: 172199035\n",
      "Tiempo total para encontrarlos: 83.661500s\n"
     ]
    }
   ],
   "source": [
    "import time\n",
    "\n",
    "numbers = [(1, 60000)]\n",
    "\n",
    "start_time = time.time()\n",
    "\n",
    "#  Truqillo para pasarle varios parámetros a una función\n",
    "\n",
    "for pair in numbers:\n",
    "    prime_sum = prime_count_vanilla_range(*pair)\n",
    "\n",
    "end_time = time.time()\n",
    "\n",
    "print(f'Números primos encontrados en el intervalo {numbers}: {prime_sum}')\n",
    "print(f'Tiempo total para encontrarlos: {end_time - start_time:2f}s')"
   ]
  },
  {
   "cell_type": "code",
   "execution_count": 14,
   "metadata": {},
   "outputs": [
    {
     "name": "stdout",
     "output_type": "stream",
     "text": [
      "CPU times: user 1min 23s, sys: 31.9 ms, total: 1min 23s\n",
      "Wall time: 1min 24s\n",
      "Números primos encontrados en el intervalo [(1, 60000)]: 172199035\n",
      "1min 24s ± 0 ns per loop (mean ± std. dev. of 1 run, 1 loop each)\n",
      "Números primos encontrados en el intervalo [(1, 60000)]: 172199035\n"
     ]
    }
   ],
   "source": [
    "numbers = [(1, 60000)]\n",
    "\n",
    "\n",
    "for pair in numbers:\n",
    "    %time prime_sum = prime_count_vanilla_range(*pair)\n",
    "print(f'Números primos encontrados en el intervalo {numbers}: {prime_sum}')\n",
    "\n",
    "\n",
    "for pair in numbers:\n",
    "    %timeit -r1 prime_sum = prime_count_vanilla_range(*pair)\n",
    "print(f'Números primos encontrados en el intervalo {numbers}: {prime_sum}')"
   ]
  },
  {
   "cell_type": "markdown",
   "metadata": {},
   "source": [
    "El módulo time en Python se encarga de medir el tiempo de CPU consumido por un proceso, considerando diversos factores como tiempos de espera y otros elementos del sistema que pueden afectar la ejecución del código. Esta medición no se limita exclusivamente al tiempo directamente atribuible al código en ejecución.\n",
    "\n",
    "En el contexto de IPython, se introducen funciones mágicas como %time y %timeit para medir el tiempo de manera más sofisticada, minimizando el impacto de factores externos. %time mide el tiempo de una única ejecución, mientras que %timeit realiza múltiples ejecuciones y calcula el mejor tiempo promedio. Es importante tener en cuenta que %timeit puede introducir un tiempo adicional debido a la configuración y ejecución de múltiples repeticiones para obtener un promedio más preciso. Estas herramientas son útiles para evaluar el rendimiento del código de una manera más robusta y precisa."
   ]
  },
  {
   "cell_type": "markdown",
   "metadata": {},
   "source": [
    "### A Python Implementation Using Numba: The fastest"
   ]
  },
  {
   "cell_type": "code",
   "execution_count": 9,
   "metadata": {},
   "outputs": [
    {
     "name": "stdout",
     "output_type": "stream",
     "text": [
      "Números primos encontrados en el intervalo [(1, 60000)]: 172199035\n",
      "Tiempo total para encontrarlos: 2.787184s\n"
     ]
    }
   ],
   "source": [
    "import time\n",
    "from numba import njit\n",
    "\n",
    "# The same implementation as prime_count_vanilla_range w/ @njit before\n",
    "@njit\n",
    "def prime_count_numba(range_from: int, range_til: int):\n",
    "    \"\"\" Returns the number of found prime numbers using range\"\"\"\n",
    "    prime_count = 0\n",
    "    range_from = range_from if range_from >= 2 else 2\n",
    "    for num in range(range_from, range_til + 1):\n",
    "        for divnum in range(2, num):\n",
    "            if ((num % divnum) == 0):\n",
    "                break\n",
    "            else:\n",
    "                prime_count += 1\n",
    "    return prime_count\n",
    "\n",
    "numbers = [(1, 60000)]\n",
    "\n",
    "start_time = time.time()\n",
    "\n",
    "#  Truqillo para pasarle varios parámetros a una función\n",
    "for pair in numbers:\n",
    "    prime_sum = prime_count_numba(*pair)\n",
    "\n",
    "end_time = time.time()\n",
    "\n",
    "print(f'Números primos encontrados en el intervalo {numbers}: {prime_sum}')\n",
    "print(f'Tiempo total para encontrarlos: {end_time - start_time:2f}s')"
   ]
  },
  {
   "cell_type": "markdown",
   "metadata": {},
   "source": [
    "La disparidad en los tiempos de ejecución se destaca al comparar el rendimiento de la función sin la optimización de Numba (njit) y con ella. Sin njit, el tiempo total para encontrar los resultados es de 38.9 s segundos, mientras que con njit, el tiempo mejora significativamente a 2.787184s segundos.\n",
    "\n",
    "La necesidad de llamar dos veces a la función prime_count_numba se explica por el proceso de compilación llevado a cabo por Numba. En la primera invocación, Numba realiza la compilación just-in-time (JIT), que implica un tiempo adicional para traducir el código a una forma optimizada. Una vez que esta compilación ha ocurrido en la primera llamada, la función queda optimizada. En la segunda invocación y subsiguientes, se elimina el impacto del tiempo de compilación, ya que la función ya está optimizada, resultando en una ejecución más rápida. En resumen, la segunda llamada evita el tiempo adicional de compilación asociado con la primera invocación, mejorando así el rendimiento general de la función."
   ]
  },
  {
   "cell_type": "markdown",
   "metadata": {},
   "source": [
    "### Parallel 1: Using multiprocessing to parallelise"
   ]
  },
  {
   "cell_type": "code",
   "execution_count": 10,
   "metadata": {},
   "outputs": [
    {
     "name": "stdout",
     "output_type": "stream",
     "text": [
      "[5766453, 15483380, 24562880, 33560052, 41914240, 50912030]\n",
      "Números primos encontrados en el intervalo [(1, 60000)]: 172199035\n",
      "Tiempo total para encontrarlos: 28.923095s\n"
     ]
    }
   ],
   "source": [
    "import multiprocessing\n",
    "import time\n",
    "\n",
    "numbers = [(1, 60000)]\n",
    "intervals = [(1, 10000), (10001, 20000), (20001, 30000), (30001, 40000), (40001, 50000), (50001, 60000)]\n",
    "\n",
    "start_time = time.time()\n",
    "\n",
    "# Execute asynchronously with multi processing\n",
    "# Using starmap as the function has several parameters\n",
    "\n",
    "with multiprocessing.Pool(processes=6) as pool:\n",
    "    result = pool.starmap(prime_count_vanilla_range, intervals)\n",
    "                     \n",
    "end_time = time.time()\n",
    "\n",
    "print(list(result))\n",
    "\n",
    "prime_sum = sum(result)\n",
    "\n",
    "print(f'Números primos encontrados en el intervalo {numbers}: {prime_sum}')\n",
    "print(f'Tiempo total para encontrarlos: {end_time - start_time:2f}s')"
   ]
  },
  {
   "cell_type": "markdown",
   "metadata": {},
   "source": [
    "### Parallel 2: Using concurrent.futures (map) to parallelise"
   ]
  },
  {
   "cell_type": "code",
   "execution_count": 11,
   "metadata": {},
   "outputs": [
    {
     "name": "stdout",
     "output_type": "stream",
     "text": [
      "[5766453, 15483380, 24562880, 33560052, 41914240, 50912030]\n",
      "Números primos encontrados en el intervalo [(1, 60000)]: 172199035\n",
      "Tiempo total para encontrarlos: 26.079178s\n"
     ]
    }
   ],
   "source": [
    "import concurrent.futures\n",
    "import time\n",
    "\n",
    "numbers = [(1, 60000)]\n",
    "intervals = [(1, 10000), (10001, 20000), (20001, 30000), (30001, 40000), (40001, 50000), (50001, 60000)]\n",
    "\n",
    "# La función necesita varios parámetros \n",
    "# Truqillo para pasarle varios parámetros a una función haciendo otra función como intermedia\n",
    "\n",
    "def run_heavy_function(params):\n",
    "    return prime_count_vanilla_range(*params)\n",
    "\n",
    "start_time = time.time()\n",
    "# Execute asynchronously with multi processing\n",
    "\n",
    "with concurrent.futures.ProcessPoolExecutor(max_workers=6) as executor:\n",
    "    resul = executor.map(run_heavy_function, intervals)\n",
    "\n",
    "end_time = time.time()\n",
    "\n",
    "resultados = list(resul)\n",
    "\n",
    "print(resultados)\n",
    "\n",
    "prime_sum = sum(resultados)\n",
    "\n",
    "print(f'Números primos encontrados en el intervalo {numbers}: {prime_sum}')\n",
    "print(f'Tiempo total para encontrarlos: {end_time - start_time:2f}s')"
   ]
  },
  {
   "cell_type": "markdown",
   "metadata": {},
   "source": [
    "### Parallel 3: Using concurrent.futures (submit) to parallelise"
   ]
  },
  {
   "cell_type": "code",
   "execution_count": 12,
   "metadata": {},
   "outputs": [
    {
     "ename": "ModuleNotFoundError",
     "evalue": "No module named 'boltons'",
     "output_type": "error",
     "traceback": [
      "\u001b[0;31m---------------------------------------------------------------------------\u001b[0m",
      "\u001b[0;31mModuleNotFoundError\u001b[0m                       Traceback (most recent call last)",
      "\u001b[0;32m<ipython-input-12-ce9a6efaff78>\u001b[0m in \u001b[0;36m<module>\u001b[0;34m\u001b[0m\n\u001b[1;32m      1\u001b[0m \u001b[0;32mimport\u001b[0m \u001b[0mconcurrent\u001b[0m\u001b[0;34m.\u001b[0m\u001b[0mfutures\u001b[0m\u001b[0;34m\u001b[0m\u001b[0;34m\u001b[0m\u001b[0m\n\u001b[1;32m      2\u001b[0m \u001b[0;32mimport\u001b[0m \u001b[0mtime\u001b[0m\u001b[0;34m\u001b[0m\u001b[0;34m\u001b[0m\u001b[0m\n\u001b[0;32m----> 3\u001b[0;31m \u001b[0;32mfrom\u001b[0m \u001b[0mboltons\u001b[0m \u001b[0;32mimport\u001b[0m \u001b[0miterutils\u001b[0m \u001b[0;32mas\u001b[0m \u001b[0mite\u001b[0m\u001b[0;34m\u001b[0m\u001b[0;34m\u001b[0m\u001b[0m\n\u001b[0m\u001b[1;32m      4\u001b[0m \u001b[0;34m\u001b[0m\u001b[0m\n\u001b[1;32m      5\u001b[0m \u001b[0mnumbers\u001b[0m \u001b[0;34m=\u001b[0m \u001b[0;34m[\u001b[0m\u001b[0;34m(\u001b[0m\u001b[0;36m1\u001b[0m\u001b[0;34m,\u001b[0m \u001b[0;36m60000\u001b[0m\u001b[0;34m)\u001b[0m\u001b[0;34m]\u001b[0m\u001b[0;34m\u001b[0m\u001b[0;34m\u001b[0m\u001b[0m\n",
      "\u001b[0;31mModuleNotFoundError\u001b[0m: No module named 'boltons'"
     ]
    }
   ],
   "source": [
    "import concurrent.futures\n",
    "import time\n",
    "from boltons import iterutils as ite\n",
    "\n",
    "numbers = [(1, 60000)]\n",
    "#intervals = [(1, 10000), (10001, 20000), (20001, 30000), (30001, 40000), (40001, 50000), (50001, 60000)]\n",
    "\n",
    "start_time = time.time()\n",
    "# Execute asynchronously with multi processing\n",
    "\n",
    "with concurrent.futures.ProcessPoolExecutor(max_workers=6) as exe:\n",
    "    jobs = []\n",
    "    for frm, to in ite.chunk_ranges(input_size=60000, chunk_size=10000):\n",
    "        job = exe.submit(prime_count_vanilla_range, frm, to)\n",
    "        jobs.append(job)\n",
    "\n",
    "end_time = time.time()\n",
    "\n",
    "print([job.result() for job in jobs])\n",
    "\n",
    "prime_sum = sum(job.result() for job in jobs)\n",
    "\n",
    "print(f'Números primos encontrados en el intervalo {numbers}: {prime_sum}')\n",
    "print(f'Tiempo total para encontrarlos: {end_time - start_time:2f}s')"
   ]
  },
  {
   "cell_type": "markdown",
   "metadata": {},
   "source": [
    "A pesar de la subdivisión del trabajo en seis intervalos para la búsqueda de números primos en paralelo, la mejora observada es de aproximadamente 5 veces en lugar de 6. Esta discrepancia se explica al considerar que no solo se están ejecutando simultáneamente seis funciones, sino que también se están dividiendo seis intervalos de trabajo asignados a seis núcleos. Esto implica una gestión y comunicación adicionales entre los procesos, lo que introduce un tiempo adicional en el procesamiento.\n",
    "\n",
    "Para abordar esta situación haciendo uso de Numba, se sugiere incorporar una sección de código dependiente de Numba después de haber ejecutado previamente los seis intervalos en paralelo. En este punto, se podría integrar la función `prime_count_numba()` para optimizar el proceso. Al revisar el código previo, se destaca la oportunidad de aprovechar nuevamente la función `prime_count_numba()` e implementarla en el código para obtener beneficios de optimización."
   ]
  },
  {
   "cell_type": "code",
   "execution_count": 13,
   "metadata": {},
   "outputs": [
    {
     "name": "stdout",
     "output_type": "stream",
     "text": [
      "Números primos encontrados en el intervalo [(1, 60000)]: 172199035\n",
      "Tiempo total para encontrarlos: 2.002522s\n"
     ]
    }
   ],
   "source": [
    "from numba import njit\n",
    "import concurrent.futures\n",
    "\n",
    "@njit\n",
    "def prime_count_numba(range_from: int, range_til: int):\n",
    "    \"\"\" Returns the number of found prime numbers using range\"\"\"\n",
    "    prime_count = 0\n",
    "    range_from = range_from if range_from >= 2 else 2\n",
    "    for num in range(range_from, range_til + 1):\n",
    "        for divnum in range(2, num):\n",
    "            if ((num % divnum) == 0):\n",
    "                break\n",
    "            else:\n",
    "                prime_count += 1\n",
    "    return prime_count\n",
    "\n",
    "# Función para ejecutar en paralelo\n",
    "def run_numba_parallel(params):\n",
    "    return prime_count_numba(*params)\n",
    "\n",
    "numbers = [(1, 60000)]\n",
    "intervals = [(1, 10000), (10001, 20000), (20001, 30000), (30001, 40000), (40001, 50000), (50001, 60000)]\n",
    "\n",
    "start_time = time.time()\n",
    "\n",
    "with concurrent.futures.ProcessPoolExecutor(max_workers=6) as executor:\n",
    "    result = executor.map(run_numba_parallel, intervals)\n",
    "\n",
    "end_time = time.time()\n",
    "\n",
    "results_list = list(result)\n",
    "prime_sum = sum(results_list)\n",
    "\n",
    "print(f'Números primos encontrados en el intervalo {numbers}: {prime_sum}')\n",
    "print(f'Tiempo total para encontrarlos: {end_time - start_time:2f}s')"
   ]
  },
  {
   "cell_type": "markdown",
   "metadata": {},
   "source": [
    "En este escenario, la utilización de `@njit` ha logrado reducir el tiempo de compilación mucho, al implementarlo en cada una de las ejecuciones en paralelo que estamos llevando a cabo. Además, la mejora es considerablemente significativa cuando se compara con el tiempo que requería la ejecución de la función original."
   ]
  }
 ],
 "metadata": {
  "kernelspec": {
   "display_name": "Python 3",
   "language": "python",
   "name": "python3"
  },
  "language_info": {
   "codemirror_mode": {
    "name": "ipython",
    "version": 3
   },
   "file_extension": ".py",
   "mimetype": "text/x-python",
   "name": "python",
   "nbconvert_exporter": "python",
   "pygments_lexer": "ipython3",
   "version": "3.8.5"
  }
 },
 "nbformat": 4,
 "nbformat_minor": 4
}
