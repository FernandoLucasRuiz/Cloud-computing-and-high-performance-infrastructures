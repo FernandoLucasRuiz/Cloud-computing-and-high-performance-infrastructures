{
 "cells": [
  {
   "cell_type": "markdown",
   "metadata": {},
   "source": [
    "### Serial version with numpy w/o arrays"
   ]
  },
  {
   "cell_type": "code",
   "execution_count": 4,
   "metadata": {
    "scrolled": true
   },
   "outputs": [
    {
     "name": "stdout",
     "output_type": "stream",
     "text": [
      "\n",
      " \t Computing pi in serial with numpy w/o arrays: \n",
      "\n",
      "\t For 1000000 trials, pi = 3.139592\n",
      "\n",
      "8.31 s ± 9.91 ms per loop (mean ± std. dev. of 3 runs, 1 loop each)\n"
     ]
    }
   ],
   "source": [
    "import numpy.random as rng\n",
    "import sys\n",
    "\n",
    "def calc_pi_numpy(N):\n",
    "    Ncirc = 0\n",
    "    for _ in range(num_trials):\n",
    "        x = rng.random()\n",
    "        y = rng.random()\n",
    "        if ( x**2 + y**2 < 1.0 ):\n",
    "            Ncirc +=1\n",
    "    return 4 * Ncirc / N\n",
    "\n",
    "num_trials = int(sys.argv[1])\n",
    "\n",
    "pi = calc_pi_numpy(num_trials)\n",
    "\n",
    "print(\"\\n \\t Computing pi in serial with numpy w/o arrays: \\n\")\n",
    "print(\"\\t For %d trials, pi = %f\\n\" % (num_trials,pi))\n",
    "\n",
    "%timeit -r3 calc_pi_numpy(num_trials)"
   ]
  }
 ],
 "metadata": {
  "kernelspec": {
   "display_name": "Python3.6",
   "language": "python",
   "name": "python3.6"
  },
  "language_info": {
   "codemirror_mode": {
    "name": "ipython",
    "version": 3
   },
   "file_extension": ".py",
   "mimetype": "text/x-python",
   "name": "python",
   "nbconvert_exporter": "python",
   "pygments_lexer": "ipython3",
   "version": "3.6.8"
  }
 },
 "nbformat": 4,
 "nbformat_minor": 5
}
